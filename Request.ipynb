{
 "cells": [
  {
   "cell_type": "code",
   "execution_count": 27,
   "metadata": {},
   "outputs": [],
   "source": [
    "import requests\n",
    "import json"
   ]
  },
  {
   "cell_type": "code",
   "execution_count": 31,
   "metadata": {},
   "outputs": [],
   "source": [
    "# send_data={'sepal_length':1,\n",
    "#             'sepal_width':2,\n",
    "#             'petal_length':3,\n",
    "#             'petal_width':4}\n",
    "\n",
    "# for i in  range(50):\n",
    "#     r = requests.post('http://127.0.0.1:8000/predict/',data=send_data)  \n",
    "#     print(r)\n"
   ]
  },
  {
   "cell_type": "code",
   "execution_count": 19,
   "metadata": {},
   "outputs": [
    {
     "data": {
      "text/plain": [
       "'{\"result\": {\"class\": \"virginica\"}}'"
      ]
     },
     "execution_count": 19,
     "metadata": {},
     "output_type": "execute_result"
    }
   ],
   "source": [
    "r.text"
   ]
  },
  {
   "cell_type": "code",
   "execution_count": 7,
   "metadata": {},
   "outputs": [
    {
     "name": "stdout",
     "output_type": "stream",
     "text": [
      "{\"result\": [{\"id\": 5, \"name\": \"ameer\", \"age\": 21, \"user_image\": \"images/twogirl_ipCTvcE.jpg\"}, {\"id\": 6, \"name\": \"aniket\", \"age\": 25, \"user_image\": \"images/twogirl_T2AOUtd.jpg\"}, {\"id\": 7, \"name\": \"zia\", \"age\": 36, \"user_image\": \"\"}]}\n",
      "200\n"
     ]
    }
   ],
   "source": [
    "url='http://127.0.0.1:8000/show/'\n",
    "r=requests.get(url)\n",
    "print(r.text)\n",
    "print(r.status_code)\n"
   ]
  },
  {
   "cell_type": "code",
   "execution_count": 8,
   "metadata": {},
   "outputs": [
    {
     "name": "stdout",
     "output_type": "stream",
     "text": [
      "{'result': [{'id': 5, 'name': 'ameer', 'age': 21, 'user_image': 'images/twogirl_ipCTvcE.jpg'}, {'id': 6, 'name': 'aniket', 'age': 25, 'user_image': 'images/twogirl_T2AOUtd.jpg'}, {'id': 7, 'name': 'zia', 'age': 36, 'user_image': ''}]}\n"
     ]
    }
   ],
   "source": [
    "json_data=r.json()\n",
    "print(json_data)"
   ]
  }
 ],
 "metadata": {
  "kernelspec": {
   "display_name": "Python 3.9.7 ('base')",
   "language": "python",
   "name": "python3"
  },
  "language_info": {
   "codemirror_mode": {
    "name": "ipython",
    "version": 3
   },
   "file_extension": ".py",
   "mimetype": "text/x-python",
   "name": "python",
   "nbconvert_exporter": "python",
   "pygments_lexer": "ipython3",
   "version": "3.9.7"
  },
  "orig_nbformat": 4,
  "vscode": {
   "interpreter": {
    "hash": "5af1854737a4ea59056fbd1648ee35c818844bd5f689a634d5a501fd6120f10b"
   }
  }
 },
 "nbformat": 4,
 "nbformat_minor": 2
}
